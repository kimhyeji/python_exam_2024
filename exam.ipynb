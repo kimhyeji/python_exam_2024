{
 "cells": [
  {
   "cell_type": "code",
   "execution_count": 11,
   "metadata": {},
   "outputs": [
    {
     "name": "stdout",
     "output_type": "stream",
     "text": [
      "안녕하세요, 저는 22살 진입니다. 제 취미는 농구입니다.\n",
      "안녕하세요, 저는 28살 리입니다. 제 취미는 야구입니다.\n",
      "이름 : 진\n",
      "나이 : 22\n",
      "취미 : 농구\n"
     ]
    }
   ],
   "source": [
    "class Person():\n",
    "    def __init__(self, name, age, hobby):\n",
    "        self.hello = '안녕하세요'\n",
    "        self.name = name\n",
    "        self.age = age\n",
    "        self.hobby = hobby\n",
    "\n",
    "    def introduce(self):\n",
    "        print(\"{}, 저는 {}살 {}입니다. 제 취미는 {}입니다.\".format(self.hello, self.age, self.name, self.hobby)) # 클래스 내부에서 접근\n",
    "\n",
    "jin = Person('진', 22, '농구')\n",
    "jin.introduce()\n",
    "\n",
    "lee = Person('리', 28, '야구')\n",
    "lee.introduce()\n",
    "\n",
    "print(\"이름 : {}\".format(jin.name)) # 클래스 외부에서 접근\n",
    "print(\"나이 : {}\".format(jin.age))\n",
    "print(\"취미 : {}\".format(jin.hobby))"
   ]
  },
  {
   "cell_type": "code",
   "execution_count": 9,
   "metadata": {},
   "outputs": [
    {
     "name": "stdout",
     "output_type": "stream",
     "text": [
      "진\n",
      "리\n"
     ]
    }
   ],
   "source": [
    "class Person:\n",
    "    pass\n",
    "\n",
    "\n",
    "jin = Person() # 인스턴스 생성\n",
    "jin.name = '진' # 인스턴스를 생성한 뒤 속성 추가\n",
    "\n",
    "lee = Person()\n",
    "lee.name = '리'\n",
    "\n",
    "print(jin.name)\n",
    "print(lee.name)"
   ]
  },
  {
   "cell_type": "code",
   "execution_count": 18,
   "metadata": {},
   "outputs": [
    {
     "name": "stdout",
     "output_type": "stream",
     "text": [
      "68kg 입니다.\n"
     ]
    }
   ],
   "source": [
    "# 클래스 외부에서는 접근 불가, 클래스 내부에서만 사용 가능한 private attribute\n",
    "\n",
    "class Person():\n",
    "    def __init__(self, name, age, hobby, weight):\n",
    "        self.hello = '안녕하세요'\n",
    "        self.name = name\n",
    "        self.age = age\n",
    "        self.hobby = hobby\n",
    "        self.__weight = weight\n",
    "\n",
    "    def diet(self, loss_weight):\n",
    "        self.__weight -= loss_weight\n",
    "        print(\"{}kg 입니다.\".format(self.__weight))\n",
    "\n",
    "jin = Person('진', 25, '운동', 78)\n",
    "jin.diet(10)"
   ]
  },
  {
   "cell_type": "code",
   "execution_count": null,
   "metadata": {},
   "outputs": [],
   "source": []
  }
 ],
 "metadata": {
  "kernelspec": {
   "display_name": "Python 3",
   "language": "python",
   "name": "python3"
  },
  "language_info": {
   "codemirror_mode": {
    "name": "ipython",
    "version": 3
   },
   "file_extension": ".py",
   "mimetype": "text/x-python",
   "name": "python",
   "nbconvert_exporter": "python",
   "pygments_lexer": "ipython3",
   "version": "3.11.4"
  }
 },
 "nbformat": 4,
 "nbformat_minor": 2
}
